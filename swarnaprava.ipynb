{
  "cells": [
    {
      "cell_type": "markdown",
      "metadata": {
        "id": "view-in-github",
        "colab_type": "text"
      },
      "source": [
        "<a href=\"https://colab.research.google.com/github/Swarnaprava15/Swarnaprava15/blob/main/swarnaprava.ipynb\" target=\"_parent\"><img src=\"https://colab.research.google.com/assets/colab-badge.svg\" alt=\"Open In Colab\"/></a>"
      ]
    },
    {
      "cell_type": "code",
      "execution_count": null,
      "id": "7160659e",
      "metadata": {
        "id": "7160659e",
        "outputId": "2f805940-a738-479a-f183-d6a70a2dfaa5"
      },
      "outputs": [
        {
          "name": "stdout",
          "output_type": "stream",
          "text": [
            "C:\\Users\\SWARNAPRAVA\n"
          ]
        }
      ],
      "source": [
        "import os\n",
        "print(os.getcwd())"
      ]
    },
    {
      "cell_type": "code",
      "execution_count": null,
      "id": "8a0ffd36",
      "metadata": {
        "id": "8a0ffd36",
        "outputId": "db17a9e2-dba9-4a38-f3b8-d8e876379737"
      },
      "outputs": [
        {
          "name": "stdout",
          "output_type": "stream",
          "text": [
            "good morning\n"
          ]
        }
      ],
      "source": [
        "name = 'good morning'\n",
        "print(name);"
      ]
    },
    {
      "cell_type": "code",
      "execution_count": null,
      "id": "bbb31d30",
      "metadata": {
        "id": "bbb31d30",
        "outputId": "10212260-82fd-4dbf-9459-f5e8f9fa6747"
      },
      "outputs": [
        {
          "data": {
            "text/plain": [
              "30"
            ]
          },
          "execution_count": 3,
          "metadata": {},
          "output_type": "execute_result"
        }
      ],
      "source": [
        "5*6"
      ]
    },
    {
      "cell_type": "code",
      "execution_count": null,
      "id": "f516c907",
      "metadata": {
        "id": "f516c907",
        "outputId": "d0579c78-8dbd-402f-a06a-1fcc3ee7bb2a"
      },
      "outputs": [
        {
          "data": {
            "text/plain": [
              "45"
            ]
          },
          "execution_count": 4,
          "metadata": {},
          "output_type": "execute_result"
        }
      ],
      "source": [
        "15+30\n"
      ]
    },
    {
      "cell_type": "code",
      "execution_count": null,
      "id": "b45c3e88",
      "metadata": {
        "id": "b45c3e88"
      },
      "outputs": [],
      "source": [
        ""
      ]
    }
  ],
  "metadata": {
    "kernelspec": {
      "display_name": "Python 3 (ipykernel)",
      "language": "python",
      "name": "python3"
    },
    "language_info": {
      "codemirror_mode": {
        "name": "ipython",
        "version": 3
      },
      "file_extension": ".py",
      "mimetype": "text/x-python",
      "name": "python",
      "nbconvert_exporter": "python",
      "pygments_lexer": "ipython3",
      "version": "3.9.7"
    },
    "colab": {
      "name": "swarnaprava.ipynb",
      "provenance": [],
      "include_colab_link": true
    }
  },
  "nbformat": 4,
  "nbformat_minor": 5
}